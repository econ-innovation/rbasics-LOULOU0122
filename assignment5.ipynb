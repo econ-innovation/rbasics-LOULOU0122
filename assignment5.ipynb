{
 "cells": [
  {
   "cell_type": "code",
   "execution_count": null,
   "metadata": {},
   "outputs": [],
   "source": [
    "##作业5-1 存入数据库\n",
    "import pandas as pd\n",
    "import pymssql as pm\n",
    "\n",
    "\n",
    "df = pd.read_csv(r'C:\\Users\\W10\\Dropbox\\bigdata_econ_2023\\data\\assignment_sql\\address.txt',names = ['address'])\n",
    "\n",
    "# 连接到 SQL Server 数据库\n",
    "conn = pm.connect(server='10.0.20.145',user='louying',password='123456',database='Students')\n",
    "# 创建一个游标\n",
    "cur = conn.cursor()\n",
    "\n",
    "#判断是否有数据表，有的话就执行删除命令，然后创建数据表\n",
    "cur.execute(\"\"\"\n",
    "CREATE TABLE lyaddress(\n",
    "    address VARCHAR(50) NOT NULL\n",
    ")\n",
    "\"\"\")\n",
    "\n",
    "\n",
    "# 将数据插入数据库表\n",
    "for i in range(len(data)):\n",
    "    add = str(data['address'].to_list()[i])\n",
    "    cur.execute(\"INSERT INTO lyaddress VALUES ('%s')\" %(add))\n",
    "\n",
    "# 提交更改\n",
    "conn.commit()\n",
    "\n",
    "# 关闭游标和数据库连接\n",
    "cur.close()\n",
    "conn.close()"
   ]
  },
  {
   "cell_type": "code",
   "execution_count": null,
   "metadata": {},
   "outputs": [],
   "source": [
    "#作业5-2 读取数据\n",
    "def ExecQuery(sql):\n",
    "    conn = pm.connect(server='10.0.20.145',user='louying',password='123456',database='Students', charset='cp936')\n",
    "    cur = conn.cursor()\n",
    "    count=cur.execute(sql)         # cursor.execute(sql)执行查询语句并返回查询到的个数\n",
    "    print(cur.fetchone())          #输出结果第一行\n",
    "    # resList=cur.fetchall()       # cursor.fetchall()查询时获取结果集中的所有行(嵌套元组)，一行构成一个元组\n",
    "    keys=[]\n",
    "    for field in cur.description:  # cursor.description来获取列名的相关信息，遍历添加列名\n",
    "        keys.append(field[0])\n",
    "    print('A')\n",
    "    data=pd.DataFrame(cur.fetchall(),columns=keys)\n",
    "    print('C')\n",
    "    cur.close()\n",
    "    conn.close()\n",
    "    return data\n",
    "sql = '''\n",
    "    SELECT p.address\n",
    "    FROM [Students].[dbo].[lyaddress] AS p\n",
    "    '''\n",
    "data = ExecQuery(sql)\n",
    "address_list = data['address'].to_list()"
   ]
  },
  {
   "cell_type": "code",
   "execution_count": null,
   "metadata": {},
   "outputs": [],
   "source": [
    "def get_geocode(location):\n",
    "    url = \"https://restapi.amap.com/v3/geocode/geo\"\n",
    "    params = {\n",
    "        \"key\": \"ee31b8a2e80936579c00e71a32f7bf3a\",\n",
    "        \"address\": location\n",
    "    }\n",
    "    response = requests.get(url, params=params)\n",
    "    data = response.json()\n",
    "    if data[\"status\"] == \"1\" and data[\"count\"] != \"0\":\n",
    "        return data[\"geocodes\"][0]['location'], data[\"geocodes\"][0]['city'], data[\"geocodes\"][0]['district']\n",
    "    else:\n",
    "        return None\n",
    "\n",
    "loc_list = []\n",
    "for i in address_list:\n",
    "    loc = get_geocode(i)\n",
    "    loc_list.append(loc)"
   ]
  },
  {
   "cell_type": "code",
   "execution_count": null,
   "metadata": {},
   "outputs": [],
   "source": [
    "conn = pm.connect(server='10.0.20.145',user='louying',password='123456',database='Students')\n",
    "curr= conn.cursor()\n",
    "curr.execute(\"AlTER TABLE lyaddress ADD loc FLOAT\")\n",
    "# 将数据插入数据库表\n",
    "for i in range(len(loc_list)):\n",
    "    aloc = str(loc_list[i])\n",
    "    curr.execute(\"INSERT INTO lyaddress VALUES ('%f')\" %(aloc))\n",
    "\n",
    "# 提交更改\n",
    "conn.commit()\n",
    "# 关闭游标和数据库连接\n",
    "cur.close()\n",
    "conn.close()"
   ]
  }
 ],
 "metadata": {
  "language_info": {
   "name": "python"
  },
  "orig_nbformat": 4
 },
 "nbformat": 4,
 "nbformat_minor": 2
}
