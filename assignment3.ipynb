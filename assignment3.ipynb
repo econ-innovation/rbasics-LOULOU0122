{
 "cells": [
  {
   "cell_type": "code",
   "execution_count": 7,
   "metadata": {},
   "outputs": [],
   "source": [
    "### 作业3-1\n",
    "import pandas as pd\n",
    "import requests\n",
    "import json\n",
    "university_data = pd.read_excel(r'D:\\985高校.xlsx')\n",
    "universities = university_data['名称'].to_list()\n",
    "def get_geocode(location):\n",
    "    url = \"https://restapi.amap.com/v3/geocode/geo\"\n",
    "    params = {\n",
    "        \"key\": \"ee31b8a2e80936579c00e71a32f7bf3a\",\n",
    "        \"address\": location\n",
    "    }\n",
    "    response = requests.get(url, params=params)\n",
    "    data = response.json()\n",
    "    if data[\"status\"] == \"1\" and data[\"count\"] != \"0\":\n",
    "        return data[\"geocodes\"][0]['location'], data[\"geocodes\"][0]['city'], data[\"geocodes\"][0]['district']\n",
    "    else:\n",
    "        return None\n",
    "loc_list = []\n",
    "city_list = []\n",
    "distirct_list = []\n",
    "for university in universities:\n",
    "    loc,city,district = get_geocode(university)\n",
    "    loc_list.append(loc)\n",
    "    city_list.append(city)\n",
    "    distirct_list.append(district)\n",
    "\n",
    "university_dic = {'985大学名称':universities,'经纬度':loc_list,'城市':city_list,'区':distirct_list}\n",
    "university_df = pd.DataFrame(university_dic)"
   ]
  },
  {
   "cell_type": "code",
   "execution_count": 8,
   "metadata": {},
   "outputs": [
    {
     "data": {
      "text/html": [
       "<div>\n",
       "<style scoped>\n",
       "    .dataframe tbody tr th:only-of-type {\n",
       "        vertical-align: middle;\n",
       "    }\n",
       "\n",
       "    .dataframe tbody tr th {\n",
       "        vertical-align: top;\n",
       "    }\n",
       "\n",
       "    .dataframe thead th {\n",
       "        text-align: right;\n",
       "    }\n",
       "</style>\n",
       "<table border=\"1\" class=\"dataframe\">\n",
       "  <thead>\n",
       "    <tr style=\"text-align: right;\">\n",
       "      <th></th>\n",
       "      <th>Unnamed: 0</th>\n",
       "    </tr>\n",
       "  </thead>\n",
       "  <tbody>\n",
       "  </tbody>\n",
       "</table>\n",
       "</div>"
      ],
      "text/plain": [
       "Empty DataFrame\n",
       "Columns: [Unnamed: 0]\n",
       "Index: []"
      ]
     },
     "execution_count": 8,
     "metadata": {},
     "output_type": "execute_result"
    }
   ],
   "source": [
    "### 作业3-2\n",
    "import json  \n",
    "import sys\n",
    "\n",
    "def extract_dates(file_path):  \n",
    "    filing_list = []\n",
    "    publication_list = []\n",
    "    grant_list = []\n",
    "    priority_list = []\n",
    "    date = {}\n",
    "    with open(r'C:\\Users\\W10\\Dropbox\\bigdata_econ_2023\\data\\assignment_google\\google100.txt', 'r') as f:  \n",
    "        for pt in f.readlines():\n",
    "            patent = json.loads(pt)  \n",
    "            filing_list.append(patent['filing_date'])\n",
    "            publication_list.append(patent['publication_date'])\n",
    "            grant_list.append(patent['grant_date'])\n",
    "            priority_list.append(patent['priority_date'])\n",
    "        date['filing_date'] = filing_list\n",
    "        date['publication_date'] = publication_list\n",
    "        date['grant_date'] = grant_list\n",
    "        date['priority_date'] = priority_list\n",
    "    return date\n",
    "\n",
    "if __name__ == '__main__':  \n",
    "    if len(sys.argv) < 2:    \n",
    "        sys.exit(1)  \n",
    "      \n",
    "    file_name = sys.argv[1]  \n",
    "    dates = extract_dates(file_name)  \n",
    "    print(dates)\n",
    "\n",
    "## python google_patent.py C:\\Users\\W10\\Dropbox\\bigdata_econ_2023\\data\\assignment_google\\google100.txt"
   ]
  }
 ],
 "metadata": {
  "kernelspec": {
   "display_name": "base",
   "language": "python",
   "name": "python3"
  },
  "language_info": {
   "codemirror_mode": {
    "name": "ipython",
    "version": 3
   },
   "file_extension": ".py",
   "mimetype": "text/x-python",
   "name": "python",
   "nbconvert_exporter": "python",
   "pygments_lexer": "ipython3",
   "version": "3.11.4"
  },
  "orig_nbformat": 4
 },
 "nbformat": 4,
 "nbformat_minor": 2
}
